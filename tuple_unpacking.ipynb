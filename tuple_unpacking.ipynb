{
 "cells": [
  {
   "cell_type": "code",
   "execution_count": 6,
   "source": [
    "work_hours = [('Juan',100), ('Maria',1000), ('Ana', 400)]"
   ],
   "outputs": [],
   "metadata": {}
  },
  {
   "cell_type": "code",
   "execution_count": 4,
   "source": [
    "def employee_check(work_hours):\r\n",
    "    current_max = 0\r\n",
    "    employee_of_month = ''\r\n",
    "\r\n",
    "    for employee, hours in work_hours:\r\n",
    "        if hours > current_max:\r\n",
    "            current_max = hours\r\n",
    "            employee_of_month = employee\r\n",
    "        else:\r\n",
    "            pass\r\n",
    "\r\n",
    "    return (employee_of_month, current_max)"
   ],
   "outputs": [],
   "metadata": {}
  },
  {
   "cell_type": "code",
   "execution_count": 8,
   "source": [
    "result = employee_check(work_hours)"
   ],
   "outputs": [],
   "metadata": {}
  },
  {
   "cell_type": "code",
   "execution_count": 9,
   "source": [
    "result"
   ],
   "outputs": [
    {
     "output_type": "execute_result",
     "data": {
      "text/plain": [
       "('Maria', 1000)"
      ]
     },
     "metadata": {},
     "execution_count": 9
    }
   ],
   "metadata": {}
  },
  {
   "cell_type": "code",
   "execution_count": 10,
   "source": [
    "name, hours = employee_check(work_hours)"
   ],
   "outputs": [],
   "metadata": {}
  },
  {
   "cell_type": "code",
   "execution_count": 11,
   "source": [
    "name, hours"
   ],
   "outputs": [
    {
     "output_type": "execute_result",
     "data": {
      "text/plain": [
       "('Maria', 1000)"
      ]
     },
     "metadata": {},
     "execution_count": 11
    }
   ],
   "metadata": {}
  }
 ],
 "metadata": {
  "orig_nbformat": 4,
  "language_info": {
   "name": "python",
   "version": "3.8.10",
   "mimetype": "text/x-python",
   "codemirror_mode": {
    "name": "ipython",
    "version": 3
   },
   "pygments_lexer": "ipython3",
   "nbconvert_exporter": "python",
   "file_extension": ".py"
  },
  "kernelspec": {
   "name": "python3",
   "display_name": "Python 3.8.10 64-bit ('venv': venv)"
  },
  "interpreter": {
   "hash": "93fe75c20994d93a745e12a4ac50f1b97a6278098c892465a7dcee865f8d1e5b"
  }
 },
 "nbformat": 4,
 "nbformat_minor": 2
}