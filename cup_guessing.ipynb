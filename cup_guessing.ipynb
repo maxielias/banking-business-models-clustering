{
 "cells": [
  {
   "cell_type": "code",
   "execution_count": 86,
   "source": [
    "example = [1,2,3,4,5,6,7]\r\n",
    "example"
   ],
   "outputs": [
    {
     "output_type": "execute_result",
     "data": {
      "text/plain": [
       "[1, 2, 3, 4, 5, 6, 7]"
      ]
     },
     "metadata": {},
     "execution_count": 86
    }
   ],
   "metadata": {}
  },
  {
   "cell_type": "code",
   "execution_count": 87,
   "source": [
    "from random import shuffle\r\n",
    "shuffle(example)\r\n",
    "example"
   ],
   "outputs": [
    {
     "output_type": "execute_result",
     "data": {
      "text/plain": [
       "[1, 5, 4, 3, 7, 6, 2]"
      ]
     },
     "metadata": {},
     "execution_count": 87
    }
   ],
   "metadata": {}
  },
  {
   "cell_type": "code",
   "execution_count": 88,
   "source": [
    "def shuffle_list(my_list):\r\n",
    "    shuffle(my_list)\r\n",
    "    return my_list"
   ],
   "outputs": [],
   "metadata": {}
  },
  {
   "cell_type": "code",
   "execution_count": 89,
   "source": [
    "result = shuffle_list(example)\r\n",
    "result"
   ],
   "outputs": [
    {
     "output_type": "execute_result",
     "data": {
      "text/plain": [
       "[1, 4, 7, 2, 3, 5, 6]"
      ]
     },
     "metadata": {},
     "execution_count": 89
    }
   ],
   "metadata": {}
  },
  {
   "cell_type": "code",
   "execution_count": 90,
   "source": [
    "#cup_guess = ['','0','']"
   ],
   "outputs": [],
   "metadata": {}
  },
  {
   "cell_type": "code",
   "execution_count": 91,
   "source": [
    "#shuffle = shuffle_list(cup_guess)\r\n",
    "#shuffle"
   ],
   "outputs": [],
   "metadata": {}
  },
  {
   "cell_type": "code",
   "execution_count": 92,
   "source": [
    "def player_guess():\r\n",
    "    guess = ''\r\n",
    "    while guess not in ['0', '1', '2']:        \r\n",
    "        guess = input('Pick a number: 1, 2 or 3')\r\n",
    "    guess = int(guess) - 1\r\n",
    "    return guess"
   ],
   "outputs": [],
   "metadata": {}
  },
  {
   "cell_type": "code",
   "execution_count": 93,
   "source": [
    "#player_guess()"
   ],
   "outputs": [],
   "metadata": {}
  },
  {
   "cell_type": "code",
   "execution_count": 94,
   "source": [
    "def check_guess(my_list, guess):\r\n",
    "    if my_list[guess] == '0':\r\n",
    "        print('Correct!')\r\n",
    "    else:\r\n",
    "        print('Wrong!')\r\n",
    "        print(my_list)"
   ],
   "outputs": [],
   "metadata": {}
  },
  {
   "cell_type": "code",
   "execution_count": 95,
   "source": [
    "#INITIAL LIST\r\n",
    "cup_guess = ['','0','']\r\n",
    "#SHUFFLE LIST\r\n",
    "shuffle = shuffle_list(cup_guess)\r\n",
    "#USER GUESS\r\n",
    "guess = player_guess()\r\n",
    "#CHECK GUESS\r\n",
    "check_guess = check_guess(shuffle, guess)\r\n",
    "check_guess"
   ],
   "outputs": [
    {
     "output_type": "stream",
     "name": "stdout",
     "text": [
      "Wrong!\n",
      "['', '0', '']\n"
     ]
    }
   ],
   "metadata": {}
  },
  {
   "cell_type": "code",
   "execution_count": 96,
   "source": [
    "def myfunc(arg1, arg2):\r\n",
    "    '''returns 5% of sum of arg1 and arg2'''\r\n",
    "    return sum((arg1, arg2)) * 0.05"
   ],
   "outputs": [],
   "metadata": {}
  },
  {
   "cell_type": "code",
   "execution_count": 97,
   "source": [
    "myfunc(10,10)"
   ],
   "outputs": [
    {
     "output_type": "execute_result",
     "data": {
      "text/plain": [
       "1.0"
      ]
     },
     "metadata": {},
     "execution_count": 97
    }
   ],
   "metadata": {}
  },
  {
   "cell_type": "code",
   "execution_count": 98,
   "source": [
    "#treat arguments as a tuple, can use any number of inputs\r\n",
    "#user can pass as many inputs as he wants, no limit\r\n",
    "#'args' is convention\r\n",
    "def myfunc(*args):\r\n",
    "    return sum(args) * 0.05"
   ],
   "outputs": [],
   "metadata": {}
  },
  {
   "cell_type": "code",
   "execution_count": 99,
   "source": [
    "myfunc(1,2,4,6,7,9,4,3,6,8,4)"
   ],
   "outputs": [
    {
     "output_type": "execute_result",
     "data": {
      "text/plain": [
       "2.7"
      ]
     },
     "metadata": {},
     "execution_count": 99
    }
   ],
   "metadata": {}
  },
  {
   "cell_type": "code",
   "execution_count": 105,
   "source": [
    "#keword arguments 'kwargs'\r\n",
    "#builds a dictionary of keys and values as input (key - value pairs)\r\n",
    "def myfunc(**kwargs):\r\n",
    "    if 'fruit' in kwargs:\r\n",
    "        print('I found: {}'.format(kwargs['fruit']))\r\n",
    "    else:\r\n",
    "        print('Found no fruit')"
   ],
   "outputs": [],
   "metadata": {}
  },
  {
   "cell_type": "code",
   "execution_count": 108,
   "source": [
    "myfunc(fruit='apple', meat='beef', vegetable='onion')"
   ],
   "outputs": [
    {
     "output_type": "stream",
     "name": "stdout",
     "text": [
      "I found: apple\n"
     ]
    }
   ],
   "metadata": {}
  },
  {
   "cell_type": "code",
   "execution_count": 107,
   "source": [
    "myfunc()"
   ],
   "outputs": [
    {
     "output_type": "stream",
     "name": "stdout",
     "text": [
      "Found no fruit\n"
     ]
    }
   ],
   "metadata": {}
  },
  {
   "cell_type": "code",
   "execution_count": 109,
   "source": [
    "def myfunc(*args, **kwargs):\r\n",
    "    print('I would like {} {}'.format(args[0], kwargs['food']))\r\n"
   ],
   "outputs": [],
   "metadata": {}
  },
  {
   "cell_type": "code",
   "execution_count": 111,
   "source": [
    "myfunc(10, 5, 6, 3, food='burguers', animal='dogs', vehicle='cars')"
   ],
   "outputs": [
    {
     "output_type": "stream",
     "name": "stdout",
     "text": [
      "I would like 10 burguers\n"
     ]
    }
   ],
   "metadata": {}
  },
  {
   "cell_type": "code",
   "execution_count": 112,
   "source": [
    "#even number list with arbitrary number of variables\r\n",
    "def myfunc(*args):\r\n",
    "    even_list = []\r\n",
    "    for args in args:\r\n",
    "        if args % 2 == 0:\r\n",
    "            even_list.append(args)\r\n",
    "        else:\r\n",
    "            pass\r\n",
    "    return even_list"
   ],
   "outputs": [],
   "metadata": {}
  },
  {
   "cell_type": "code",
   "execution_count": 113,
   "source": [
    "myfunc(4,5,7,22,6,2,7,23,346,65,34,4527)"
   ],
   "outputs": [
    {
     "output_type": "execute_result",
     "data": {
      "text/plain": [
       "[4, 22, 6, 2, 346, 34]"
      ]
     },
     "metadata": {},
     "execution_count": 113
    }
   ],
   "metadata": {}
  },
  {
   "cell_type": "code",
   "execution_count": 147,
   "source": [
    "def myfunc(string): return ''.join(char.upper() if i%2 else char.lower() for i, char in enumerate(string))"
   ],
   "outputs": [],
   "metadata": {}
  },
  {
   "cell_type": "code",
   "execution_count": 148,
   "source": [
    "myfunc('AJdKjdkL')"
   ],
   "outputs": [
    {
     "output_type": "execute_result",
     "data": {
      "text/plain": [
       "'aJdKjDkL'"
      ]
     },
     "metadata": {},
     "execution_count": 148
    }
   ],
   "metadata": {}
  }
 ],
 "metadata": {
  "orig_nbformat": 4,
  "language_info": {
   "name": "python",
   "version": "3.8.10",
   "mimetype": "text/x-python",
   "codemirror_mode": {
    "name": "ipython",
    "version": 3
   },
   "pygments_lexer": "ipython3",
   "nbconvert_exporter": "python",
   "file_extension": ".py"
  },
  "kernelspec": {
   "name": "python3",
   "display_name": "Python 3.8.10 64-bit ('venv': venv)"
  },
  "interpreter": {
   "hash": "93fe75c20994d93a745e12a4ac50f1b97a6278098c892465a7dcee865f8d1e5b"
  }
 },
 "nbformat": 4,
 "nbformat_minor": 2
}