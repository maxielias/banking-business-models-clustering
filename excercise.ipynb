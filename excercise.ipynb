{
 "cells": [
  {
   "cell_type": "code",
   "execution_count": 45,
   "source": [
    "#LESSER OF TWO EVENS: Write a function that returns the lesser of two given numbers if both numbers are even,\r\n",
    "#but returns the greater if one or both numbers are odd¶\r\n",
    "def lesser_of_two_evens(a, b):\r\n",
    "    if a % 2 ==0 and b % 2 == 0:\r\n",
    "        return min(a, b)\r\n",
    "    else:\r\n",
    "        return max(a, b)"
   ],
   "outputs": [],
   "metadata": {}
  },
  {
   "cell_type": "code",
   "execution_count": 46,
   "source": [
    "lesser_of_two_evens(5, 2)"
   ],
   "outputs": [
    {
     "output_type": "execute_result",
     "data": {
      "text/plain": [
       "5"
      ]
     },
     "metadata": {},
     "execution_count": 46
    }
   ],
   "metadata": {}
  },
  {
   "cell_type": "code",
   "execution_count": 47,
   "source": [
    "lesser_of_two_evens(2, 4)"
   ],
   "outputs": [
    {
     "output_type": "execute_result",
     "data": {
      "text/plain": [
       "2"
      ]
     },
     "metadata": {},
     "execution_count": 47
    }
   ],
   "metadata": {}
  },
  {
   "cell_type": "code",
   "execution_count": 48,
   "source": [
    "#RETURNS TRUE if first letter of both words are uppercase\r\n",
    "def animal_crackers(text):\r\n",
    "    text_upper = text.title()\r\n",
    "    if text_upper == text:\r\n",
    "        return True\r\n",
    "    else:\r\n",
    "        return False"
   ],
   "outputs": [],
   "metadata": {}
  },
  {
   "cell_type": "code",
   "execution_count": 49,
   "source": [
    "animal_crackers('Vaca Muerta')"
   ],
   "outputs": [
    {
     "output_type": "execute_result",
     "data": {
      "text/plain": [
       "True"
      ]
     },
     "metadata": {},
     "execution_count": 49
    }
   ],
   "metadata": {}
  },
  {
   "cell_type": "code",
   "execution_count": 50,
   "source": [
    "#ANIMAL CRACKERS: Write a function takes a two-word string and returns True if both words begin with same \r\n",
    "# letter\r\n",
    "def animal_crackers(text):\r\n",
    "    split =text.split()\r\n",
    "    if split[0][0] == split[1][0]:\r\n",
    "        return True\r\n",
    "    else:\r\n",
    "        return False"
   ],
   "outputs": [],
   "metadata": {}
  },
  {
   "cell_type": "code",
   "execution_count": 51,
   "source": [
    "animal_crackers('Hola Hundo')"
   ],
   "outputs": [
    {
     "output_type": "execute_result",
     "data": {
      "text/plain": [
       "True"
      ]
     },
     "metadata": {},
     "execution_count": 51
    }
   ],
   "metadata": {}
  },
  {
   "cell_type": "code",
   "execution_count": 53,
   "source": [
    "# MAKES TWENTY: Given two integers, return True if the sum of the integers is 20 or if one of the integers\r\n",
    "# # is 20. If not, return False\r\n",
    "def makes_twenty(n1,n2):\r\n",
    "    if n1+n2 == 20 or n1 == 20 or n2 == 20:\r\n",
    "        return True\r\n",
    "    else:\r\n",
    "        return False\r\n"
   ],
   "outputs": [],
   "metadata": {}
  },
  {
   "cell_type": "code",
   "execution_count": 56,
   "source": [
    "makes_twenty(10, 10)"
   ],
   "outputs": [
    {
     "output_type": "execute_result",
     "data": {
      "text/plain": [
       "True"
      ]
     },
     "metadata": {},
     "execution_count": 56
    }
   ],
   "metadata": {}
  },
  {
   "cell_type": "code",
   "execution_count": 99,
   "source": [
    "#OLD MACDONALD: Write a function that capitalizes the first and fourth letters of a name¶\r\n",
    "def old_macdonald(name):\r\n",
    "    word1 = name[:3].split()\r\n",
    "    word2 = name[3:].split()\r\n",
    "    word = word1[0].capitalize() + word2[0].capitalize()\r\n",
    "    return word"
   ],
   "outputs": [],
   "metadata": {}
  },
  {
   "cell_type": "code",
   "execution_count": 100,
   "source": [
    "old_macdonald('macdonald')"
   ],
   "outputs": [
    {
     "output_type": "execute_result",
     "data": {
      "text/plain": [
       "'MacDonald'"
      ]
     },
     "metadata": {},
     "execution_count": 100
    }
   ],
   "metadata": {}
  },
  {
   "cell_type": "code",
   "execution_count": 140,
   "source": [
    "#MASTER YODA: Given a sentence, return a sentence with the words reversed\r\n",
    "def master_yoda(text):\r\n",
    "    list_text = text.split()\r\n",
    "    reverse_text = list_text[::-1]\r\n",
    "    return reverse_text"
   ],
   "outputs": [],
   "metadata": {}
  },
  {
   "cell_type": "code",
   "execution_count": 141,
   "source": [
    "master_yoda('we are ready')"
   ],
   "outputs": [
    {
     "output_type": "execute_result",
     "data": {
      "text/plain": [
       "['ready', 'are', 'we']"
      ]
     },
     "metadata": {},
     "execution_count": 141
    }
   ],
   "metadata": {}
  },
  {
   "cell_type": "code",
   "execution_count": 118,
   "source": [
    "#ALMOST THERE: Given an integer n, return True if n is within 10 of either 100 or 200¶\r\n",
    "def almost_there(n):\r\n",
    "    if abs(n - 100) <= 10 or (n - 200) <= 10:\r\n",
    "        return True\r\n",
    "    else:\r\n",
    "        return False "
   ],
   "outputs": [],
   "metadata": {}
  },
  {
   "cell_type": "code",
   "execution_count": 119,
   "source": [
    "almost_there(201)"
   ],
   "outputs": [
    {
     "output_type": "execute_result",
     "data": {
      "text/plain": [
       "True"
      ]
     },
     "metadata": {},
     "execution_count": 119
    }
   ],
   "metadata": {}
  },
  {
   "cell_type": "code",
   "execution_count": 434,
   "source": [
    "#Given a list of ints, return True if the array contains a 3 next to a 3 somewhere.\r\n",
    "def has_33(nums): \r\n",
    "    for i, num in enumerate(nums):\r\n",
    "        if nums[i:i+2] == [3, 3]:\r\n",
    "            return True\r\n",
    "        else:\r\n",
    "            pass\r\n",
    "    return False"
   ],
   "outputs": [],
   "metadata": {}
  },
  {
   "cell_type": "code",
   "execution_count": 435,
   "source": [
    "has_33([4,67,3,7,6,3,3,6])"
   ],
   "outputs": [
    {
     "output_type": "execute_result",
     "data": {
      "text/plain": [
       "True"
      ]
     },
     "metadata": {},
     "execution_count": 435
    }
   ],
   "metadata": {}
  },
  {
   "cell_type": "code",
   "execution_count": 436,
   "source": [
    "#PAPER DOLL: Given a string, return a string where for every character in the original there are three\r\n",
    "#characters\r\n",
    "def paper_doll(text):\r\n",
    "    text_x_3 = ''\r\n",
    "    for i, s in enumerate(text):\r\n",
    "        text_x_3 += s*3\r\n",
    "    return text_x_3"
   ],
   "outputs": [],
   "metadata": {}
  },
  {
   "cell_type": "code",
   "execution_count": 437,
   "source": [
    "paper_doll('shadow')"
   ],
   "outputs": [
    {
     "output_type": "execute_result",
     "data": {
      "text/plain": [
       "'ssshhhaaadddooowww'"
      ]
     },
     "metadata": {},
     "execution_count": 437
    }
   ],
   "metadata": {}
  },
  {
   "cell_type": "code",
   "execution_count": 439,
   "source": [
    "#BLACKJACK: Given three integers between 1 and 11, if their sum is less than or equal to 21, return their\r\n",
    "#sum. If their sum exceeds 21 and there's an eleven, reduce the total sum by 10. Finally, if the sum\r\n",
    "#(even after adjustment) exceeds 21, return 'BUST'\r\n",
    "def blackjack(a,b,c):\r\n",
    "    if 11 in [a, b, c]:\r\n",
    "        sum21 = (a + b + c - 10)\r\n",
    "    else:\r\n",
    "        sum21 = (a + b + c)\r\n",
    "    return 'BUST' if sum21 > 21 else sum21"
   ],
   "outputs": [],
   "metadata": {}
  },
  {
   "cell_type": "code",
   "execution_count": 440,
   "source": [
    "blackjack(8,10,10)"
   ],
   "outputs": [
    {
     "output_type": "execute_result",
     "data": {
      "text/plain": [
       "'BUST'"
      ]
     },
     "metadata": {},
     "execution_count": 440
    }
   ],
   "metadata": {}
  },
  {
   "cell_type": "code",
   "execution_count": 441,
   "source": [
    "#SUMMER OF '69: Return the sum of the numbers in the array, except ignore sections of numbers starting with\r\n",
    "#a 6 and extending to the next 9 (every 6 will be followed by at least one 9). Return 0 for no numbers.\r\n",
    "def summer_69(arr):\r\n",
    "    try:\r\n",
    "        sum_arr_6_9 = sum(arr[arr.index(6):arr.index(9) + 1])\r\n",
    "        sum_arr = sum(arr)\r\n",
    "        return sum_arr - sum_arr_6_9\r\n",
    "    except:\r\n",
    "        sum_arr = sum(arr)\r\n",
    "        return sum_arr\r\n",
    "\r\n",
    "#Usa un WHILE con una condicion ADD = TRUE si no se encuentra con un numero 6, de ahi pasa a ser FALSE\r\n",
    "#hasta que encuentra un 9, y se reactiva el ADD = TRUE\r\n",
    "        "
   ],
   "outputs": [],
   "metadata": {}
  },
  {
   "cell_type": "code",
   "execution_count": 442,
   "source": [
    "summer_69([1,6,9,1])"
   ],
   "outputs": [
    {
     "output_type": "execute_result",
     "data": {
      "text/plain": [
       "2"
      ]
     },
     "metadata": {},
     "execution_count": 442
    }
   ],
   "metadata": {}
  },
  {
   "cell_type": "code",
   "execution_count": 458,
   "source": [
    "#SPY GAME: Write a function that takes in a list of integers and returns True if it contains 007 in order\r\n",
    "def spy_game(nums):\r\n",
    "    code = [0, 0, 7, 'True']\r\n",
    "    for i in nums:\r\n",
    "        if i == code[0]:\r\n",
    "            code.pop(0)\r\n",
    "    return len(code) == 1"
   ],
   "outputs": [],
   "metadata": {}
  },
  {
   "cell_type": "code",
   "execution_count": 459,
   "source": [
    "spy_game([1,0,3,5,0,3,7])"
   ],
   "outputs": [
    {
     "output_type": "execute_result",
     "data": {
      "text/plain": [
       "True"
      ]
     },
     "metadata": {},
     "execution_count": 459
    }
   ],
   "metadata": {}
  },
  {
   "cell_type": "code",
   "execution_count": 335,
   "source": [
    "#COUNT PRIMES: Write a function that returns the number of prime numbers that exist up to and including a\r\n",
    "#given number\r\n",
    "def count_primes(num):\r\n",
    "    counter = 0\r\n",
    "    for n in range(0, num):\r\n",
    "        if n == 2:\r\n",
    "            counter += 1\r\n",
    "        if n > 2 and n % 2 != 0 or n % 3 != 0 or n % 5 != 0 or n % 7 != 0:\r\n",
    "            counter += 1\r\n",
    "        else:\r\n",
    "            pass\r\n",
    "    return counter\r\n"
   ],
   "outputs": [],
   "metadata": {}
  },
  {
   "cell_type": "code",
   "execution_count": 336,
   "source": [
    "count_primes(100)"
   ],
   "outputs": [
    {
     "output_type": "execute_result",
     "data": {
      "text/plain": [
       "100"
      ]
     },
     "metadata": {},
     "execution_count": 336
    }
   ],
   "metadata": {}
  },
  {
   "cell_type": "code",
   "execution_count": 502,
   "source": [
    "def find_primes(num):    \r\n",
    "    counter = 0\r\n",
    "    for n in range(0, num + 1):\r\n",
    "        prime_10 = [2, 3, 5, 7]\r\n",
    "        a_div = any(map(lambda x: n % x == 0, prime_10))\r\n",
    "        if n <= 10 and n in prime_10:\r\n",
    "            counter += 1\r\n",
    "        elif n > 10 and a_div == False:\r\n",
    "            counter += 1\r\n",
    "        else:\r\n",
    "            pass\r\n",
    "    return counter"
   ],
   "outputs": [],
   "metadata": {}
  },
  {
   "cell_type": "code",
   "execution_count": 504,
   "source": [
    "def find_primes_c(num):\r\n",
    "    if num < 2:\r\n",
    "        return 0\r\n",
    "    primes = [2]\r\n",
    "    x = 3\r\n",
    "    while x <= num:\r\n",
    "        for y in range(3, x, 2):\r\n",
    "            if x % y == 0:\r\n",
    "                x += 2\r\n",
    "                break\r\n",
    "        else:\r\n",
    "            primes.append(x)\r\n",
    "            x += 2\r\n",
    "    print(primes)\r\n",
    "    return len(primes)"
   ],
   "outputs": [],
   "metadata": {}
  },
  {
   "cell_type": "code",
   "execution_count": 505,
   "source": [
    "find_primes_c(100)"
   ],
   "outputs": [
    {
     "output_type": "stream",
     "name": "stdout",
     "text": [
      "[2, 3, 5, 7, 11, 13, 17, 19, 23, 29, 31, 37, 41, 43, 47, 53, 59, 61, 67, 71, 73, 79, 83, 89, 97]\n"
     ]
    },
    {
     "output_type": "execute_result",
     "data": {
      "text/plain": [
       "25"
      ]
     },
     "metadata": {},
     "execution_count": 505
    }
   ],
   "metadata": {}
  }
 ],
 "metadata": {
  "orig_nbformat": 4,
  "language_info": {
   "name": "python",
   "version": "3.8.10",
   "mimetype": "text/x-python",
   "codemirror_mode": {
    "name": "ipython",
    "version": 3
   },
   "pygments_lexer": "ipython3",
   "nbconvert_exporter": "python",
   "file_extension": ".py"
  },
  "kernelspec": {
   "name": "python3",
   "display_name": "Python 3.8.10 64-bit ('venv': venv)"
  },
  "interpreter": {
   "hash": "93fe75c20994d93a745e12a4ac50f1b97a6278098c892465a7dcee865f8d1e5b"
  }
 },
 "nbformat": 4,
 "nbformat_minor": 2
}